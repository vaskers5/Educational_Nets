{
 "cells": [
  {
   "cell_type": "code",
   "execution_count": 1,
   "metadata": {
    "collapsed": true
   },
   "outputs": [],
   "source": [
    "import pandas as pd\n",
    "import numpy as np\n",
    "import matplotlib.pyplot as plt"
   ]
  },
  {
   "cell_type": "code",
   "execution_count": 2,
   "outputs": [
    {
     "name": "stdout",
     "output_type": "stream",
     "text": [
      "<class 'pandas.core.frame.DataFrame'>\n",
      "Int64Index: 1121 entries, 0 to 1459\n",
      "Data columns (total 38 columns):\n",
      " #   Column         Non-Null Count  Dtype  \n",
      "---  ------         --------------  -----  \n",
      " 0   Id             1121 non-null   int64  \n",
      " 1   MSSubClass     1121 non-null   int64  \n",
      " 2   LotFrontage    1121 non-null   float64\n",
      " 3   LotArea        1121 non-null   int64  \n",
      " 4   OverallQual    1121 non-null   int64  \n",
      " 5   OverallCond    1121 non-null   int64  \n",
      " 6   YearBuilt      1121 non-null   int64  \n",
      " 7   YearRemodAdd   1121 non-null   int64  \n",
      " 8   MasVnrArea     1121 non-null   float64\n",
      " 9   BsmtFinSF1     1121 non-null   int64  \n",
      " 10  BsmtFinSF2     1121 non-null   int64  \n",
      " 11  BsmtUnfSF      1121 non-null   int64  \n",
      " 12  TotalBsmtSF    1121 non-null   int64  \n",
      " 13  1stFlrSF       1121 non-null   int64  \n",
      " 14  2ndFlrSF       1121 non-null   int64  \n",
      " 15  LowQualFinSF   1121 non-null   int64  \n",
      " 16  GrLivArea      1121 non-null   int64  \n",
      " 17  BsmtFullBath   1121 non-null   int64  \n",
      " 18  BsmtHalfBath   1121 non-null   int64  \n",
      " 19  FullBath       1121 non-null   int64  \n",
      " 20  HalfBath       1121 non-null   int64  \n",
      " 21  BedroomAbvGr   1121 non-null   int64  \n",
      " 22  KitchenAbvGr   1121 non-null   int64  \n",
      " 23  TotRmsAbvGrd   1121 non-null   int64  \n",
      " 24  Fireplaces     1121 non-null   int64  \n",
      " 25  GarageYrBlt    1121 non-null   float64\n",
      " 26  GarageCars     1121 non-null   int64  \n",
      " 27  GarageArea     1121 non-null   int64  \n",
      " 28  WoodDeckSF     1121 non-null   int64  \n",
      " 29  OpenPorchSF    1121 non-null   int64  \n",
      " 30  EnclosedPorch  1121 non-null   int64  \n",
      " 31  3SsnPorch      1121 non-null   int64  \n",
      " 32  ScreenPorch    1121 non-null   int64  \n",
      " 33  PoolArea       1121 non-null   int64  \n",
      " 34  MiscVal        1121 non-null   int64  \n",
      " 35  MoSold         1121 non-null   int64  \n",
      " 36  YrSold         1121 non-null   int64  \n",
      " 37  SalePrice      1121 non-null   int64  \n",
      "dtypes: float64(3), int64(35)\n",
      "memory usage: 341.6 KB\n"
     ]
    }
   ],
   "source": [
    "df = pd.read_csv(\"data/train.csv\")\n",
    "df = df.select_dtypes(exclude=object).dropna()\n",
    "df.info()"
   ],
   "metadata": {
    "collapsed": false,
    "pycharm": {
     "name": "#%%\n"
    }
   }
  },
  {
   "cell_type": "code",
   "execution_count": 3,
   "outputs": [
    {
     "name": "stderr",
     "output_type": "stream",
     "text": [
      "C:\\Users\\79514\\AppData\\Local\\Temp/ipykernel_7576/1421373743.py:3: FutureWarning: In a future version of pandas all arguments of DataFrame.drop except for the argument 'labels' will be keyword-only\n",
      "  x_train, x_test, y_train, y_test = train_test_split(df.drop('SalePrice', 1),\n"
     ]
    }
   ],
   "source": [
    "from sklearn.model_selection import train_test_split\n",
    "\n",
    "x_train, x_test, y_train, y_test = train_test_split(df.drop('SalePrice', 1),\n",
    "                                                    df['SalePrice'],\n",
    "                                                    test_size=0.2,\n",
    "                                                    random_state=42)\n"
   ],
   "metadata": {
    "collapsed": false,
    "pycharm": {
     "name": "#%%\n"
    }
   }
  },
  {
   "cell_type": "code",
   "execution_count": 4,
   "outputs": [
    {
     "data": {
      "text/plain": "896"
     },
     "execution_count": 4,
     "metadata": {},
     "output_type": "execute_result"
    }
   ],
   "source": [
    "len(x_train)"
   ],
   "metadata": {
    "collapsed": false,
    "pycharm": {
     "name": "#%%\n"
    }
   }
  },
  {
   "cell_type": "code",
   "execution_count": 17,
   "outputs": [],
   "source": [
    "def mse(predict, labels):\n",
    "    dif = np.square(predict - labels)\n",
    "    return dif.sum()/(2 * len(predict))"
   ],
   "metadata": {
    "collapsed": false,
    "pycharm": {
     "name": "#%%\n"
    }
   }
  },
  {
   "cell_type": "code",
   "execution_count": 20,
   "outputs": [
    {
     "name": "stderr",
     "output_type": "stream",
     "text": [
      "C:\\Users\\79514\\anaconda3\\envs\\DataSpellEnvironment\\lib\\site-packages\\pandas\\core\\arraylike.py:364: RuntimeWarning: overflow encountered in square\n",
      "  result = getattr(ufunc, method)(*inputs, **kwargs)\n"
     ]
    }
   ],
   "source": [
    "from utils.model import LinearRegression\n",
    "\n",
    "\n",
    "regr = LinearRegression(mse)\n",
    "result = regr.train(x_train, y_train, max_epochs=50)"
   ],
   "metadata": {
    "collapsed": false,
    "pycharm": {
     "name": "#%%\n"
    }
   }
  },
  {
   "cell_type": "code",
   "execution_count": 22,
   "outputs": [],
   "source": [
    "regr.save_weights('rofl.yaml')"
   ],
   "metadata": {
    "collapsed": false,
    "pycharm": {
     "name": "#%%\n"
    }
   }
  },
  {
   "cell_type": "code",
   "execution_count": 23,
   "outputs": [
    {
     "name": "stderr",
     "output_type": "stream",
     "text": [
      "C:\\Users\\79514\\MFFM\\EduNets\\Educatinal_Nets\\data\\linear regression\\utils\\model.py:45: YAMLLoadWarning: calling yaml.load() without Loader=... is deprecated, as the default Loader is unsafe. Please read https://msg.pyyaml.org/load for full details.\n",
      "  last_version = yaml.load(f)\n"
     ]
    }
   ],
   "source": [
    "regr.load_weights('rofl.yaml')"
   ],
   "metadata": {
    "collapsed": false,
    "pycharm": {
     "name": "#%%\n"
    }
   }
  },
  {
   "cell_type": "code",
   "execution_count": 24,
   "outputs": [
    {
     "data": {
      "text/plain": "2.031180013457693e+299"
     },
     "execution_count": 24,
     "metadata": {},
     "output_type": "execute_result"
    }
   ],
   "source": [
    "mse(regr.predict(x_test), y_test)"
   ],
   "metadata": {
    "collapsed": false,
    "pycharm": {
     "name": "#%%\n"
    }
   }
  },
  {
   "cell_type": "code",
   "execution_count": 10,
   "outputs": [
    {
     "data": {
      "text/plain": "array([2.59530123e+149, 4.57128189e+149, 8.97266892e+149, 4.92336436e+149,\n       5.12450981e+149, 6.03684621e+149, 3.97643588e+149, 9.85175953e+149,\n       7.27449497e+149, 6.17167709e+149, 6.51829180e+149, 6.03120991e+149,\n       6.74667558e+149, 5.93686648e+149, 7.05276111e+149, 6.24580015e+149,\n       1.21680041e+150, 6.06265974e+149, 5.66751940e+149, 5.72282783e+149,\n       6.16556290e+149, 6.09163394e+149, 1.49076675e+149, 8.95631399e+149,\n       4.52495283e+149, 5.23522605e+149, 1.23338565e+150, 6.39720574e+149,\n       1.89788144e+149, 7.79289152e+149, 4.28683618e+149, 7.00157763e+149,\n       7.94849847e+149, 6.32678089e+149, 5.64523025e+149, 6.95697721e+149,\n       6.60100678e+149, 5.35362983e+149, 5.63845609e+149, 5.41558887e+149,\n       4.70778270e+149, 3.46490447e+149, 2.59868682e+149, 5.87206127e+149,\n       6.48220638e+149, 5.34932269e+149, 5.09728449e+149, 2.41307885e+149,\n       4.83383184e+149, 7.85459578e+149, 5.75007904e+149, 4.98432350e+149,\n       1.68682305e+149, 6.59685806e+149, 4.09756786e+149, 5.43930831e+149,\n       5.66128074e+149, 6.92880085e+149, 4.76195843e+149, 3.45151217e+149,\n       5.41757223e+149, 3.54167715e+149, 6.10894669e+149, 1.48784085e+149,\n       8.32961764e+149, 6.14168087e+149, 6.71450353e+149, 5.40414173e+149,\n       4.47591658e+149, 2.90292101e+150, 6.77488872e+149, 3.55226470e+149,\n       4.95438837e+149, 6.78583850e+149, 5.17783621e+149, 5.52268690e+149,\n       6.74522923e+149, 7.22062366e+149, 5.23209993e+149, 5.36701146e+149,\n       5.66078873e+149, 3.98258867e+149, 1.39150070e+150, 6.17071583e+149,\n       2.97838718e+149, 8.57203830e+149, 4.48825669e+149, 4.60605563e+149,\n       3.16486497e+149, 7.19270012e+149, 7.72318367e+149, 2.56094364e+149,\n       9.34354452e+149, 7.02744742e+149, 5.22316615e+149, 5.57268981e+149,\n       1.98577665e+149, 5.31956045e+149, 5.41200207e+149, 5.94485052e+149,\n       2.41302094e+149, 4.99664799e+149, 5.82269162e+149, 5.36918891e+149,\n       5.10019032e+149, 8.24503858e+149, 6.42361175e+149, 4.98264849e+149,\n       2.95814463e+149, 7.55364698e+149, 6.88989651e+149, 6.01990853e+149,\n       4.25130873e+149, 4.40898635e+149, 7.15604984e+149, 8.63104129e+149,\n       6.72758457e+149, 3.06344006e+149, 5.55109395e+149, 9.31079801e+149,\n       3.04034128e+149, 5.94956117e+149, 4.47460672e+149, 8.42144340e+149,\n       6.66640333e+149, 5.10259310e+149, 5.50849582e+149, 8.34582962e+149,\n       5.65915918e+149, 2.08691185e+149, 5.83707509e+149, 5.31329363e+149,\n       5.22111628e+149, 6.99058016e+149, 6.09445980e+149, 3.83114588e+149,\n       5.60401861e+149, 4.98437483e+149, 6.13149685e+149, 2.87974599e+149,\n       2.37568328e+149, 9.43348172e+149, 2.37229208e+149, 6.32220041e+149,\n       5.88485987e+149, 5.36329587e+149, 5.10536518e+149, 4.36843244e+149,\n       5.65227892e+149, 4.88497229e+149, 5.16602848e+149, 5.16718722e+149,\n       7.24500714e+149, 7.32580054e+149, 2.32542333e+149, 8.14100590e+149,\n       4.79052259e+149, 6.49276313e+149, 7.67176313e+149, 7.41623185e+149,\n       7.09596899e+149, 5.70461189e+149, 5.41920638e+149, 6.12106084e+149,\n       6.38534102e+149, 1.45553801e+150, 6.34362203e+149, 8.42214588e+149,\n       3.35668160e+149, 4.43720288e+149, 7.80461052e+149, 4.70892890e+149,\n       6.38294425e+149, 6.57974091e+149, 4.54950814e+149, 6.33298895e+149,\n       1.88708111e+149, 4.98027987e+149, 1.19667588e+150, 6.94579379e+149,\n       6.29308424e+149, 4.76005335e+149, 5.70103200e+149, 3.97622253e+149,\n       5.21787576e+149, 2.67078506e+149, 7.30381799e+149, 3.46667412e+149,\n       5.53769222e+149, 5.09164826e+149, 4.50699171e+149, 4.62284345e+149,\n       7.37173491e+149, 4.92620692e+149, 5.18568373e+149, 5.74300913e+149,\n       5.06520126e+149, 1.40202758e+149, 8.19426607e+149, 6.00744083e+149,\n       5.85104997e+149, 6.10091143e+149, 5.34427806e+149, 4.70296058e+149,\n       7.87541514e+149, 2.45528896e+149, 9.99723432e+149, 5.76047070e+149,\n       6.48578674e+149, 5.59080559e+149, 7.64573536e+149, 3.06113011e+149,\n       4.88018641e+149, 6.11292726e+149, 5.79247433e+149, 4.43714197e+149,\n       3.84514721e+149, 9.32855381e+149, 6.17689490e+149, 6.48727327e+149,\n       5.31706813e+149, 2.75632981e+149, 7.89661714e+149, 5.59790176e+149,\n       5.50842232e+149])"
     },
     "execution_count": 10,
     "metadata": {},
     "output_type": "execute_result"
    }
   ],
   "source": [
    "regr.predict(x_test)"
   ],
   "metadata": {
    "collapsed": false,
    "pycharm": {
     "name": "#%%\n"
    }
   }
  },
  {
   "cell_type": "code",
   "execution_count": 71,
   "outputs": [
    {
     "data": {
      "text/plain": "892     154500\n1105    325000\n413     115000\n522     159000\n1036    315500\n         ...  \n479      89471\n1361    260000\n802     189000\n651     108000\n722     124500\nName: SalePrice, Length: 292, dtype: int64"
     },
     "execution_count": 71,
     "metadata": {},
     "output_type": "execute_result"
    }
   ],
   "source": [
    "y_test"
   ],
   "metadata": {
    "collapsed": false,
    "pycharm": {
     "name": "#%%\n"
    }
   }
  },
  {
   "cell_type": "code",
   "execution_count": null,
   "outputs": [],
   "source": [],
   "metadata": {
    "collapsed": false,
    "pycharm": {
     "name": "#%%\n"
    }
   }
  }
 ],
 "metadata": {
  "kernelspec": {
   "display_name": "Python 3",
   "language": "python",
   "name": "python3"
  },
  "language_info": {
   "codemirror_mode": {
    "name": "ipython",
    "version": 2
   },
   "file_extension": ".py",
   "mimetype": "text/x-python",
   "name": "python",
   "nbconvert_exporter": "python",
   "pygments_lexer": "ipython2",
   "version": "2.7.6"
  }
 },
 "nbformat": 4,
 "nbformat_minor": 0
}