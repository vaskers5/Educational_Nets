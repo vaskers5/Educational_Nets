{
 "cells": [
  {
   "cell_type": "code",
   "execution_count": 1,
   "metadata": {},
   "outputs": [],
   "source": [
    "import numpy as np\n"
   ]
  },
  {
   "cell_type": "code",
   "execution_count": 8,
   "metadata": {},
   "outputs": [],
   "source": [
    "class LogisticRegression():\n",
    "    \n",
    "    def __init__(self, X, y, bias = 0, zero_weight = - 1):\n",
    "        self.X = X\n",
    "        self.y = y\n",
    "        self.first_dim = len(X)\n",
    "        self.bias = bias\n",
    "        self.weights = np.zeros(self.first_dim)\n",
    "        self.weights[0] = zero_weight\n",
    "        \n",
    "    \n",
    "    @staticmethod\n",
    "    def backward(self):\n",
    "        X = self.X.T\n",
    "        result = sigmoid(np.dot(self.weights, X) + self.bias)\n",
    "        labels = self.y.T\n",
    "        l = (-1 / self.first_dim)\n",
    "        #to do strange name\n",
    "        cost = l * (np.sum(labels * np.log(result)) \\\n",
    "               + ((1 - labels)) * np.log(1 - result))\n",
    "        \n",
    "        #Gradien calculation\n",
    "        delta_weight = l * np.dot(X, (result - labels).T)\n",
    "        delta_bias = l * np.sum(result - labels)\n",
    "        \n",
    "        return delta_weight, delta_bias, cost\n",
    "    \n",
    "    \n",
    "    def fit(self, l_rate = 0.01, iters):\n",
    "        #to do strange name\n",
    "        costs = []\n",
    "        for i in range(iters):\n",
    "            delta_weight, delta_bias, cost = self.backward()\n",
    "            \n",
    "            self.weights -= l_rate * delta_weight.T\n",
    "            self.bias -= l_rate * delta_bias\n",
    "            \n",
    "            if i % 50 == 0:\n",
    "                costs.append(cost)\n",
    "        \n",
    "        return costs\n",
    "            \n",
    "    \n",
    "    @staticmethod\n",
    "    def squrare_loss(y_predict, y_true):\n",
    "        return (y_predict - y_true)**2\n",
    "        \n",
    "    @staticmethod\n",
    "    def sigmoid(x):\n",
    "        return 1 / (1 + np.exp(-x))"
   ]
  },
  {
   "cell_type": "code",
   "execution_count": 14,
   "metadata": {},
   "outputs": [],
   "source": [
    "something = np.array([[1,2,3], [1,2,3]])"
   ]
  },
  {
   "cell_type": "markdown",
   "metadata": {},
   "source": [
    "Ege Solve Base\n",
    "=====================\n",
    "\n",
    "## [TODO List](https://github.com/vaskers5/Ege_Solve_Base/blob/main/TODO.md)\n",
    "\n",
    "### 1. Логистическая регрессия\n",
    "\n",
    "* [Code](https://github.com/vaskers5/Educatinal_Nets/blob/main/logistic%20regression/LogNet.ipynb)\n"
   ]
  },
  {
   "cell_type": "code",
   "execution_count": null,
   "metadata": {},
   "outputs": [],
   "source": []
  }
 ],
 "metadata": {
  "julynter-results": {
   "filteredId": [],
   "filteredIndividual": [],
   "filteredRestart": [],
   "filteredType": [],
   "hash": "19675b10c355e1f40c322a79c530022803495278",
   "visible": [
    {
     "cellId": "group",
     "hash": "c0de46ba034d710c2b2406a37ee6816be9634aa0",
     "reason": "This groups other lint messages",
     "reportId": "group",
     "reportType": "hiddenstate",
     "suggestion": null,
     "text": "Hidden State"
    },
    {
     "cellId": 1,
     "hash": "7cb0f5a3b1cda23d40f53753e46e1f626830328e",
     "reason": "A cell with code changes may produce different results than what it generated before the changes, hampering the reproducibility.",
     "reportId": "h2",
     "reportType": "hiddenstate",
     "suggestion": "Please consider re-executing it to guarantee the reproducibility.",
     "text": "Cell 1 has changed since its execution, but it wasn't executed after the changes"
    },
    {
     "cellId": 1,
     "hash": "f906c2a4f3a902d44101c6bb34446071706f70a7",
     "reason": "A skip in the execution count might indicate the presence of a hidden state caused by a cell that does not exist anymore. Hidden states might prevent cells from executing or producing the same results, hampering the reproducibility.",
     "reportId": "h4",
     "reportType": "hiddenstate",
     "suggestion": "Please consider re-running the notebook to guarantee the reproducibility.",
     "text": "Cell 1 skips the execution count"
    },
    {
     "cellId": 2,
     "hash": "26a5c78ebb652f9928327ea2ebe3bbc7809d89ed",
     "reason": "A skip in the execution count might indicate the presence of a hidden state caused by a cell that does not exist anymore. Hidden states might prevent cells from executing or producing the same results, hampering the reproducibility.",
     "reportId": "h4",
     "reportType": "hiddenstate",
     "suggestion": "Please consider re-running the notebook to guarantee the reproducibility.",
     "text": "Cell 2 skips the execution count"
    },
    {
     "cellId": "group",
     "hash": "19d3d3d153f22e318cbe061df9e685ba5165b0aa",
     "reason": "This groups other lint messages",
     "reportId": "group",
     "reportType": "confusenotebook",
     "suggestion": null,
     "text": "Confuse Notebook"
    },
    {
     "cellId": 0,
     "hash": "e33dcd5ec18e7469fb9968ed493f6603b61a7708",
     "reason": "A markdown cell at the beginning of the notebook can provide a human-friendly title with no constraints and introduce the notebook, indicating its purpose and external requirements.",
     "reportId": "c4",
     "reportType": "confusenotebook",
     "suggestion": "Please consider adding a markdown cell to describe the notebook.",
     "text": "The first cell of the notebook is not a markdown cell"
    }
   ]
  },
  "kernelspec": {
   "display_name": "Python 3",
   "language": "python",
   "name": "python3"
  },
  "language_info": {
   "codemirror_mode": {
    "name": "ipython",
    "version": 3
   },
   "file_extension": ".py",
   "mimetype": "text/x-python",
   "name": "python",
   "nbconvert_exporter": "python",
   "pygments_lexer": "ipython3",
   "version": "3.6.3"
  }
 },
 "nbformat": 4,
 "nbformat_minor": 4
}
